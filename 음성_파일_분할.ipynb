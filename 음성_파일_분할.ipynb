{
  "nbformat": 4,
  "nbformat_minor": 0,
  "metadata": {
    "colab": {
      "provenance": []
    },
    "kernelspec": {
      "name": "python3",
      "display_name": "Python 3"
    },
    "language_info": {
      "name": "python"
    },
    "gpuClass": "standard"
  },
  "cells": [
    {
      "cell_type": "code",
      "source": [
        "from google.colab import drive\n",
        "drive.mount('/content/drive')"
      ],
      "metadata": {
        "colab": {
          "base_uri": "https://localhost:8080/"
        },
        "id": "ES4KZxjvv8An",
        "outputId": "f2944e50-9151-4afb-d549-a17728cda7e1"
      },
      "execution_count": null,
      "outputs": [
        {
          "output_type": "stream",
          "name": "stdout",
          "text": [
            "Drive already mounted at /content/drive; to attempt to forcibly remount, call drive.mount(\"/content/drive\", force_remount=True).\n"
          ]
        }
      ]
    },
    {
      "cell_type": "markdown",
      "source": [
        "### base_path = \"/content/drive/MyDrive/chatgpt안썻조/기계학습과딥러닝_이재욱교수님/Final_Project/split/jimin/\" 여기서 split 안에 각자 이름으로 된 폴더, 그 폴더 안에 dataset, result 생성하면 될 듯!"
      ],
      "metadata": {
        "id": "-WD_2LqRwcnb"
      }
    },
    {
      "cell_type": "code",
      "source": [
        "import os\n",
        "import librosa\n",
        "import numpy as np\n",
        "import soundfile as sf\n",
        "\n",
        "def trim_audio_data(audio_file, save_file, start_time=0, sec=12):\n",
        "    sr = 44100\n",
        "    y, sr = librosa.load(audio_file, sr=sr)\n",
        "    ny = y[start_time*sr:sr*(sec + start_time)]\n",
        "    \n",
        "    sf.write(save_file + f\"_{start_time}.wav\", ny, sr)\n",
        "    \n",
        "base_path = \"/content/drive/MyDrive/chatgpt안썻조/기계학습과딥러닝_이재욱교수님/Final_Project/split/sori/\"\n",
        "audio_path = base_path + \"dataset/\"\n",
        "save_path = base_path + \"result/\"\n",
        "audio_list = os.listdir(audio_path)\n",
        "\n",
        "for audio_name in audio_list:\n",
        "    if audio_name.find('wav') != -1:\n",
        "        audio_file = audio_path + audio_name\n",
        "        \n",
        "        f = sf.SoundFile(audio_file)\n",
        "        f_sec = f.frames // f.samplerate\n",
        "        print(audio_file, \" seconds, \", f_sec)\n",
        "        \n",
        "        sec = 12\n",
        "        start_time = 0\n",
        "        while start_time + sec <= f_sec:\n",
        "            save_file = save_path + audio_name[:-4] + f\"_{start_time}.wav\"\n",
        "            trim_audio_data(audio_file, save_file, start_time, sec)\n",
        "            start_time += sec\n"
      ],
      "metadata": {
        "id": "ewwXnsA7uixB",
        "colab": {
          "base_uri": "https://localhost:8080/"
        },
        "outputId": "4a0f3701-6216-4774-f163-785204af28bc"
      },
      "execution_count": null,
      "outputs": [
        {
          "output_type": "stream",
          "name": "stdout",
          "text": [
            "/content/drive/MyDrive/chatgpt안썻조/기계학습과딥러닝_이재욱교수님/Final_Project/split/sori/dataset/조은소리-녹음본.wav  seconds,  3902\n"
          ]
        }
      ]
    },
    {
      "cell_type": "markdown",
      "source": [
        "## zip 파일 압축"
      ],
      "metadata": {
        "id": "C-AzGvzOBsPb"
      }
    },
    {
      "cell_type": "code",
      "source": [
        "import zipfile\n",
        "import os\n",
        "\n",
        "# 압축하고자 하는 파일들이 들어있는 폴더 경로\n",
        "source_folder = '/content/drive/MyDrive/chatgpt안썻조/기계학습과딥러닝_이재욱교수님/Final_Project/split/sori/result'\n",
        "\n",
        "# 압축파일 이름\n",
        "zip_filename = 'sori.zip'\n",
        "\n",
        "# 압축 파일을 저장할 폴더 경로\n",
        "target_folder = '/content/drive/MyDrive/chatgpt안썻조/기계학습과딥러닝_이재욱교수님/Final_Project/diff-svc/dataset/'\n",
        "\n",
        "# 압축파일 경로와 이름 지정\n",
        "zip_path = os.path.join(target_folder, zip_filename)\n",
        "\n",
        "# 압축 파일 열기\n",
        "with zipfile.ZipFile(zip_path, mode='w') as zip_file:\n",
        "    \n",
        "    # 압축하고자 하는 파일들을 읽어서 zip 파일에 추가\n",
        "    for filename in os.listdir(source_folder):\n",
        "        if filename.endswith('.wav'):\n",
        "            file_path = os.path.join(source_folder, filename)\n",
        "            zip_file.write(file_path, arcname=filename)\n",
        "\n",
        "print(f'{zip_filename} 파일이 {target_folder} 폴더에 저장되었습니다.')"
      ],
      "metadata": {
        "id": "1cwv7BtkyxoJ",
        "colab": {
          "base_uri": "https://localhost:8080/"
        },
        "outputId": "3c696f47-a11d-49c3-b531-e366d1596309"
      },
      "execution_count": null,
      "outputs": [
        {
          "output_type": "stream",
          "name": "stdout",
          "text": [
            "sori.zip 파일이 /content/drive/MyDrive/chatgpt안썻조/기계학습과딥러닝_이재욱교수님/Final_Project/diff-svc/dataset/ 폴더에 저장되었습니다.\n"
          ]
        }
      ]
    },
    {
      "cell_type": "markdown",
      "source": [
        "#### 출처 : https://walkaroundthedevelop.tistory.com/128?category=1036265"
      ],
      "metadata": {
        "id": "mOU1Q9dLvXPr"
      }
    },
    {
      "cell_type": "code",
      "source": [],
      "metadata": {
        "id": "QW5nBObzVWNl"
      },
      "execution_count": null,
      "outputs": []
    }
  ]
}